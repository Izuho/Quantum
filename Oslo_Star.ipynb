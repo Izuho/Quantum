{
  "nbformat": 4,
  "nbformat_minor": 0,
  "metadata": {
    "colab": {
      "name": "Oslo_Star.ipynb",
      "provenance": [],
      "authorship_tag": "ABX9TyMtqrluELW+9AYkF/wV3w8Q",
      "include_colab_link": true
    },
    "kernelspec": {
      "name": "python3",
      "display_name": "Python 3"
    },
    "language_info": {
      "name": "python"
    }
  },
  "cells": [
    {
      "cell_type": "markdown",
      "metadata": {
        "id": "view-in-github",
        "colab_type": "text"
      },
      "source": [
        "<a href=\"https://colab.research.google.com/github/Izuho/Quantum/blob/main/Oslo_Star.ipynb\" target=\"_parent\"><img src=\"https://colab.research.google.com/assets/colab-badge.svg\" alt=\"Open In Colab\"/></a>"
      ]
    },
    {
      "cell_type": "code",
      "execution_count": 1,
      "metadata": {
        "colab": {
          "base_uri": "https://localhost:8080/"
        },
        "id": "DY36cxIhw4A0",
        "outputId": "d3bcc2e6-0295-42c9-d257-80eeca53308a"
      },
      "outputs": [
        {
          "output_type": "stream",
          "name": "stdout",
          "text": [
            "Collecting scipy>=1.0\n",
            "  Downloading scipy-1.7.3-cp37-cp37m-manylinux_2_12_x86_64.manylinux2010_x86_64.whl (38.1 MB)\n",
            "\u001b[K     |████████████████████████████████| 38.1 MB 1.2 MB/s \n",
            "\u001b[?25hRequirement already satisfied: six>=1.5 in /usr/local/lib/python3.7/dist-packages (from python-dateutil>=2.8.0->qiskit-ibmq-provider==0.19.1->qiskit) (1.15.0)\n",
            "Requirement already satisfied: idna<3,>=2.5 in /usr/local/lib/python3.7/dist-packages (from requests>=2.19->qiskit-ibmq-provider==0.19.1->qiskit) (2.10)\n",
            "Requirement already satisfied: certifi>=2017.4.17 in /usr/local/lib/python3.7/dist-packages (from requests>=2.19->qiskit-ibmq-provider==0.19.1->qiskit) (2022.6.15)\n",
            "Requirement already satisfied: chardet<4,>=3.0.2 in /usr/local/lib/python3.7/dist-packages (from requests>=2.19->qiskit-ibmq-provider==0.19.1->qiskit) (3.0.4)\n",
            "Collecting ntlm-auth>=1.0.2\n",
            "  Downloading ntlm_auth-1.5.0-py2.py3-none-any.whl (29 kB)\n",
            "Collecting cryptography>=1.3\n",
            "  Downloading cryptography-37.0.2-cp36-abi3-manylinux_2_24_x86_64.whl (4.0 MB)\n",
            "\u001b[K     |████████████████████████████████| 4.0 MB 34.1 MB/s \n",
            "\u001b[?25hRequirement already satisfied: cffi>=1.12 in /usr/local/lib/python3.7/dist-packages (from cryptography>=1.3->requests-ntlm>=1.1.0->qiskit-ibmq-provider==0.19.1->qiskit) (1.15.0)\n",
            "Requirement already satisfied: pycparser in /usr/local/lib/python3.7/dist-packages (from cffi>=1.12->cryptography>=1.3->requests-ntlm>=1.1.0->qiskit-ibmq-provider==0.19.1->qiskit) (2.21)\n",
            "Collecting pbr!=2.1.0,>=2.0.0\n",
            "  Downloading pbr-5.9.0-py2.py3-none-any.whl (112 kB)\n",
            "\u001b[K     |████████████████████████████████| 112 kB 58.5 MB/s \n",
            "\u001b[?25hRequirement already satisfied: importlib-metadata>=1.7.0 in /usr/local/lib/python3.7/dist-packages (from stevedore>=3.0.0->qiskit-terra==0.20.2->qiskit) (4.11.4)\n",
            "Requirement already satisfied: typing-extensions>=3.6.4 in /usr/local/lib/python3.7/dist-packages (from importlib-metadata>=1.7.0->stevedore>=3.0.0->qiskit-terra==0.20.2->qiskit) (4.1.1)\n",
            "Requirement already satisfied: zipp>=0.5 in /usr/local/lib/python3.7/dist-packages (from importlib-metadata>=1.7.0->stevedore>=3.0.0->qiskit-terra==0.20.2->qiskit) (3.8.0)\n",
            "Requirement already satisfied: mpmath>=0.19 in /usr/local/lib/python3.7/dist-packages (from sympy>=1.3->qiskit-terra==0.20.2->qiskit) (1.2.1)\n",
            "Building wheels for collected packages: qiskit, python-constraint\n",
            "  Building wheel for qiskit (setup.py) ... \u001b[?25l\u001b[?25hdone\n",
            "  Created wheel for qiskit: filename=qiskit-0.36.2-py3-none-any.whl size=11933 sha256=463d24525a6b2483d0abfe64798f71cf86dbd014a44c0fc6cafdc3e63960c688\n",
            "  Stored in directory: /root/.cache/pip/wheels/36/f7/83/e2755ad17aa35bc145fce34e184aaf394a265a978d95caaabf\n",
            "  Building wheel for python-constraint (setup.py) ... \u001b[?25l\u001b[?25hdone\n",
            "  Created wheel for python-constraint: filename=python_constraint-1.4.0-py2.py3-none-any.whl size=24081 sha256=daf2e491fad2f88adbad41cd878421550323c918b848d62523000cfd183fc396\n",
            "  Stored in directory: /root/.cache/pip/wheels/07/27/db/1222c80eb1e431f3d2199c12569cb1cac60f562a451fe30479\n",
            "Successfully built qiskit python-constraint\n",
            "Installing collected packages: pbr, tweedledum, symengine, stevedore, scipy, retworkx, python-constraint, ply, ntlm-auth, cryptography, websockets, websocket-client, requests-ntlm, qiskit-terra, qiskit-ignis, qiskit-ibmq-provider, qiskit-aer, qiskit\n",
            "  Attempting uninstall: scipy\n",
            "    Found existing installation: scipy 1.4.1\n",
            "    Uninstalling scipy-1.4.1:\n",
            "      Successfully uninstalled scipy-1.4.1\n",
            "\u001b[31mERROR: pip's dependency resolver does not currently take into account all the packages that are installed. This behaviour is the source of the following dependency conflicts.\n",
            "albumentations 0.1.12 requires imgaug<0.2.7,>=0.2.5, but you have imgaug 0.2.9 which is incompatible.\u001b[0m\n",
            "Successfully installed cryptography-37.0.2 ntlm-auth-1.5.0 pbr-5.9.0 ply-3.11 python-constraint-1.4.0 qiskit-0.36.2 qiskit-aer-0.10.4 qiskit-ibmq-provider-0.19.1 qiskit-ignis-0.7.1 qiskit-terra-0.20.2 requests-ntlm-1.1.0 retworkx-0.11.0 scipy-1.7.3 stevedore-3.5.0 symengine-0.9.2 tweedledum-1.1.1 websocket-client-1.3.3 websockets-10.3\n"
          ]
        }
      ],
      "source": [
        "!pip install qiskit"
      ]
    },
    {
      "cell_type": "code",
      "source": [
        "#必要なモジュールのインポート\n",
        "from qiskit import IBMQ, QuantumCircuit, ClassicalRegister, QuantumRegister\n",
        "from qiskit import execute, Aer\n",
        "from math import pi, sqrt\n",
        "from qiskit.tools.visualization import plot_histogram, circuit_drawer\n",
        "import numpy as np"
      ],
      "metadata": {
        "id": "G9wfNcscxJ7U"
      },
      "execution_count": 7,
      "outputs": []
    },
    {
      "cell_type": "code",
      "source": [
        "# 自分のアカウント情報をloadする。（あらかじめ IBMQ.save_account を実行しておく必要がある. 複数のアカウントを使い分ける時はここで行う)\n",
        "IBMQ.save_account('049473bee5997f5654ebf971e38cd79c5bff10efd159418702ccdff5887362c90734087d95541c44b74de5822218e64ead6d741baab2056ae65d544af6eba8b3')\n",
        "provider = IBMQ.load_account()"
      ],
      "metadata": {
        "id": "4oCYzrEIxKdm"
      },
      "execution_count": 8,
      "outputs": []
    },
    {
      "cell_type": "code",
      "source": [
        "backend = provider.get_backend('ibm_oslo')"
      ],
      "metadata": {
        "id": "O_z6mEvrxMzZ"
      },
      "execution_count": 9,
      "outputs": []
    },
    {
      "cell_type": "code",
      "source": [
        "def make_stab_star6(point):\n",
        "\n",
        "    # make unitary matrix to compute expected value G\n",
        "    unitary = None\n",
        "    if point == 0:\n",
        "        unitary = QuantumCircuit(6)\n",
        "        unitary.x(5)\n",
        "        for i in range(5):\n",
        "            unitary.z(i)\n",
        "        unitary = unitary.to_gate().control()\n",
        "    elif 1 <= point and point <= 5:\n",
        "        unitary = QuantumCircuit(2)\n",
        "        unitary.z(0)\n",
        "        unitary.x(1)\n",
        "        unitary = unitary.to_gate().control()\n",
        "    else:\n",
        "        raise Exception('OUT of BOUNDS!')\n",
        "\n",
        "    qc = QuantumCircuit()\n",
        "    qr = QuantumRegister(7)\n",
        "    qc.add_register(qr)\n",
        "    qc.h(qr[3])\n",
        "    qc.cx(qr[3],qr[1])\n",
        "    qc.cx(qr[1],qr[2])\n",
        "    qc.cx(qr[1],qr[0])\n",
        "    qc.cx(qr[3],qr[5])\n",
        "    qc.cx(qr[5],qr[4])\n",
        "    for i in range(1, 7, 1): \n",
        "        qc.h(qr[i])\n",
        "\n",
        "\n",
        "    if point == 0:\n",
        "        qc.append(unitary, qr[6::-1])\n",
        "        qc.h(qr[6])\n",
        "    else:\n",
        "        qc.append(unitary, [qr[6], qr[0], qr[point]])\n",
        "        qc.h(qr[6])\n",
        "\n",
        "    cr = ClassicalRegister(1,'creg')\n",
        "    qc.add_register(cr)\n",
        "    qc.measure(qr[6],cr[0])\n",
        "\n",
        "    return qc"
      ],
      "metadata": {
        "id": "AZ9UajyaxUOX"
      },
      "execution_count": 10,
      "outputs": []
    },
    {
      "cell_type": "code",
      "source": [
        "circ = make_stab_star6(1)\n",
        "circ.draw()"
      ],
      "metadata": {
        "colab": {
          "base_uri": "https://localhost:8080/",
          "height": 279
        },
        "id": "NeXpRp8A4PG3",
        "outputId": "d87edc02-e13d-4f4c-e437-a3babb20fc3d"
      },
      "execution_count": 5,
      "outputs": [
        {
          "output_type": "execute_result",
          "data": {
            "text/plain": [
              "                       ┌───┐     ┌─────────────┐        \n",
              "  q1_0: ───────────────┤ X ├─────┤0            ├────────\n",
              "             ┌───┐     └─┬─┘┌───┐│  circuit-14 │        \n",
              "  q1_1: ─────┤ X ├──■────■──┤ H ├┤1            ├────────\n",
              "             └─┬─┘┌─┴─┐┌───┐└───┘└──────┬──────┘        \n",
              "  q1_2: ───────┼──┤ X ├┤ H ├────────────┼───────────────\n",
              "        ┌───┐  │  └───┘├───┤            │               \n",
              "  q1_3: ┤ H ├──■────■──┤ H ├────────────┼───────────────\n",
              "        └───┘       │  ├───┤┌───┐       │               \n",
              "  q1_4: ────────────┼──┤ X ├┤ H ├───────┼───────────────\n",
              "                  ┌─┴─┐└─┬─┘├───┤       │               \n",
              "  q1_5: ──────────┤ X ├──■──┤ H ├───────┼───────────────\n",
              "        ┌───┐     └───┘     └───┘       │       ┌───┐┌─┐\n",
              "  q1_6: ┤ H ├───────────────────────────■───────┤ H ├┤M├\n",
              "        └───┘                                   └───┘└╥┘\n",
              "creg: 1/══════════════════════════════════════════════╩═\n",
              "                                                      0 "
            ],
            "text/html": [
              "<pre style=\"word-wrap: normal;white-space: pre;background: #fff0;line-height: 1.1;font-family: &quot;Courier New&quot;,Courier,monospace\">                       ┌───┐     ┌─────────────┐        \n",
              "  q1_0: ───────────────┤ X ├─────┤0            ├────────\n",
              "             ┌───┐     └─┬─┘┌───┐│  circuit-14 │        \n",
              "  q1_1: ─────┤ X ├──■────■──┤ H ├┤1            ├────────\n",
              "             └─┬─┘┌─┴─┐┌───┐└───┘└──────┬──────┘        \n",
              "  q1_2: ───────┼──┤ X ├┤ H ├────────────┼───────────────\n",
              "        ┌───┐  │  └───┘├───┤            │               \n",
              "  q1_3: ┤ H ├──■────■──┤ H ├────────────┼───────────────\n",
              "        └───┘       │  ├───┤┌───┐       │               \n",
              "  q1_4: ────────────┼──┤ X ├┤ H ├───────┼───────────────\n",
              "                  ┌─┴─┐└─┬─┘├───┤       │               \n",
              "  q1_5: ──────────┤ X ├──■──┤ H ├───────┼───────────────\n",
              "        ┌───┐     └───┘     └───┘       │       ┌───┐┌─┐\n",
              "  q1_6: ┤ H ├───────────────────────────■───────┤ H ├┤M├\n",
              "        └───┘                                   └───┘└╥┘\n",
              "creg: 1/══════════════════════════════════════════════╩═\n",
              "                                                      0 </pre>"
            ]
          },
          "metadata": {},
          "execution_count": 5
        }
      ]
    },
    {
      "cell_type": "code",
      "source": [
        "ans = 0\n",
        "\n",
        "circ = make_stab_star6(0)\n",
        "result = execute(circ, backend, shots=4096).result()\n",
        "#結果を出力する。\n",
        "hist = result.get_counts(circ)\n",
        "print(hist)\n",
        "#結果のヒストグラムを描画する。\n",
        "plot_histogram(hist)\n",
        "ratio = None\n",
        "if hist.get('1') == None:\n",
        "    ratio = 1\n",
        "else:\n",
        "    ratio = (hist['0']-hist['1'])/(hist['0']+hist['1'])\n",
        "ans += sqrt(2) * 5 * ratio"
      ],
      "metadata": {
        "colab": {
          "base_uri": "https://localhost:8080/"
        },
        "id": "Nqxcoxni48Cw",
        "outputId": "222a0514-427a-4d9b-e38f-7621182f755b"
      },
      "execution_count": 11,
      "outputs": [
        {
          "output_type": "stream",
          "name": "stdout",
          "text": [
            "{'0': 1988, '1': 2108}\n"
          ]
        }
      ]
    },
    {
      "cell_type": "code",
      "source": [
        "circ = make_stab_star6(0)\n",
        "emulator = Aer.get_backend('qasm_simulator')\n",
        "result = execute(circ, emulator, shots=4096).result()\n",
        "#結果を出力する。\n",
        "hist = result.get_counts(circ)\n",
        "print(hist)\n",
        "#結果のヒストグラムを描画する。\n",
        "plot_histogram(hist)"
      ],
      "metadata": {
        "colab": {
          "base_uri": "https://localhost:8080/",
          "height": 341
        },
        "id": "--Gul4RvDAzh",
        "outputId": "a37b1c9a-686a-4680-b22d-9dfdd8b37d8c"
      },
      "execution_count": 14,
      "outputs": [
        {
          "output_type": "stream",
          "name": "stdout",
          "text": [
            "{'0': 4096}\n"
          ]
        },
        {
          "output_type": "execute_result",
          "data": {
            "text/plain": [
              "<Figure size 504x360 with 1 Axes>"
            ],
            "image/png": "[encoded data removed]"
          },
          "metadata": {},
          "execution_count": 14
        }
      ]
    },
    {
      "cell_type": "code",
      "source": [
        "circ = make_stab_star6(1)\n",
        "result = execute(circ, backend, shots=4096).result()\n",
        "#結果を出力する。\n",
        "hist = result.get_counts(circ)\n",
        "print(hist)\n",
        "#結果のヒストグラムを描画する。\n",
        "plot_histogram(hist)\n",
        "ratio = None\n",
        "if hist.get('1') == None:\n",
        "    ratio = 1\n",
        "else:\n",
        "    ratio = (hist['0']-hist['1'])/(hist['0']+hist['1'])\n",
        "ans += sqrt(2) * ratio"
      ],
      "metadata": {
        "id": "-vQQuDEG5GdX"
      },
      "execution_count": null,
      "outputs": []
    },
    {
      "cell_type": "code",
      "source": [
        "circ = make_stab_star6(2)\n",
        "result = execute(circ, backend, shots=4096).result()\n",
        "#結果を出力する。\n",
        "hist = result.get_counts(circ)\n",
        "print(hist)\n",
        "#結果のヒストグラムを描画する。\n",
        "plot_histogram(hist)\n",
        "ratio = None\n",
        "if hist.get('1') == None:\n",
        "    ratio = 1\n",
        "else:\n",
        "    ratio = (hist['0']-hist['1'])/(hist['0']+hist['1'])\n",
        "ans += sqrt(2) * ratio"
      ],
      "metadata": {
        "id": "o7IsuqkA53O9"
      },
      "execution_count": null,
      "outputs": []
    },
    {
      "cell_type": "code",
      "source": [
        "circ = make_stab_star6(3)\n",
        "result = execute(circ, backend, shots=4096).result()\n",
        "#結果を出力する。\n",
        "hist = result.get_counts(circ)\n",
        "print(hist)\n",
        "#結果のヒストグラムを描画する。\n",
        "plot_histogram(hist)\n",
        "ratio = None\n",
        "if hist.get('1') == None:\n",
        "    ratio = 1\n",
        "else:\n",
        "    ratio = (hist['0']-hist['1'])/(hist['0']+hist['1'])\n",
        "ans += sqrt(2) * ratio"
      ],
      "metadata": {
        "id": "fS0jQRUl55E1"
      },
      "execution_count": null,
      "outputs": []
    },
    {
      "cell_type": "code",
      "source": [
        "circ = make_stab_star6(4)\n",
        "result = execute(circ, backend, shots=4096).result()\n",
        "#結果を出力する。\n",
        "hist = result.get_counts(circ)\n",
        "print(hist)\n",
        "#結果のヒストグラムを描画する。\n",
        "plot_histogram(hist)\n",
        "ratio = None\n",
        "if hist.get('1') == None:\n",
        "    ratio = 1\n",
        "else:\n",
        "    ratio = (hist['0']-hist['1'])/(hist['0']+hist['1'])\n",
        "ans += sqrt(2) * ratio"
      ],
      "metadata": {
        "id": "Y9q5ELPx56jF"
      },
      "execution_count": null,
      "outputs": []
    },
    {
      "cell_type": "code",
      "source": [
        "circ = make_stab_star6(5)\n",
        "result = execute(circ, backend, shots=4096).result()\n",
        "#結果を出力する。\n",
        "hist = result.get_counts(circ)\n",
        "print(hist)\n",
        "#結果のヒストグラムを描画する。\n",
        "plot_histogram(hist)\n",
        "ratio = None\n",
        "if hist.get('1') == None:\n",
        "    ratio = 1\n",
        "else:\n",
        "    ratio = (hist['0']-hist['1'])/(hist['0']+hist['1'])\n",
        "ans += sqrt(2) * ratio"
      ],
      "metadata": {
        "id": "Jv-JKPH0570R"
      },
      "execution_count": null,
      "outputs": []
    }
  ]
}